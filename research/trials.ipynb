{
 "cells": [
  {
   "cell_type": "code",
   "execution_count": 99,
   "metadata": {},
   "outputs": [],
   "source": [
    "# import sys\n",
    "# print(sys.executable)"
   ]
  },
  {
   "cell_type": "code",
   "execution_count": 100,
   "metadata": {},
   "outputs": [],
   "source": [
    "# %pwd"
   ]
  },
  {
   "cell_type": "code",
   "execution_count": 5,
   "metadata": {},
   "outputs": [],
   "source": [
    "import os \n",
    "os.chdir(\"../\")"
   ]
  },
  {
   "cell_type": "code",
   "execution_count": 7,
   "metadata": {},
   "outputs": [],
   "source": [
    "from langchain.document_loaders import PyPDFLoader, DirectoryLoader\n",
    "from langchain.text_splitter import RecursiveCharacterTextSplitter"
   ]
  },
  {
   "cell_type": "code",
   "execution_count": 8,
   "metadata": {},
   "outputs": [],
   "source": [
    "# Extract Data from the Pdf\n",
    "def load_pdf_file(data):\n",
    "    loader = DirectoryLoader(data, glob = \"*.pdf\",\n",
    "                             loader_cls = PyPDFLoader)\n",
    "    document = loader.load()\n",
    "    return document "
   ]
  },
  {
   "cell_type": "code",
   "execution_count": 9,
   "metadata": {},
   "outputs": [],
   "source": [
    "extract_pdf_data = load_pdf_file(data = \"Dataset/\")"
   ]
  },
  {
   "cell_type": "code",
   "execution_count": 10,
   "metadata": {},
   "outputs": [
    {
     "name": "stdout",
     "output_type": "stream",
     "text": [
      "Number of rows (documents) created: 1302\n"
     ]
    }
   ],
   "source": [
    "# Assuming extract_pdf_data is already loaded\n",
    "if extract_pdf_data:\n",
    "    num_rows = len(extract_pdf_data)\n",
    "    print(f\"Number of rows (documents) created: {num_rows}\")\n",
    "else:\n",
    "    print(\"No data found in 'extract_pdf_data'.\")"
   ]
  },
  {
   "cell_type": "code",
   "execution_count": 11,
   "metadata": {},
   "outputs": [],
   "source": [
    "# split the data into chunks\n",
    "def text_split(extracted_data):\n",
    "    text_spliter = RecursiveCharacterTextSplitter(chunk_size=500, chunk_overlap=20)\n",
    "    text_chunks = text_spliter.split_documents(extracted_data)\n",
    "    return text_chunks"
   ]
  },
  {
   "cell_type": "code",
   "execution_count": 12,
   "metadata": {},
   "outputs": [
    {
     "name": "stdout",
     "output_type": "stream",
     "text": [
      "6690\n"
     ]
    }
   ],
   "source": [
    "text_chunks = text_split(extract_pdf_data)\n",
    "print(len(text_chunks))"
   ]
  },
  {
   "cell_type": "code",
   "execution_count": 15,
   "metadata": {},
   "outputs": [],
   "source": [
    "# text_chunks"
   ]
  },
  {
   "cell_type": "code",
   "execution_count": 13,
   "metadata": {},
   "outputs": [
    {
     "data": {
      "text/plain": [
       "'renewal. In this revised and updated edition, Van Schendel offers\\na fascinating and highly readable account of life in Bangladesh over\\nthe last two millennia. Based on the latest academic research and\\ncovering the numerous historical developments of the2010s, he\\nprovides an eloquent introduction to a fascinating country and its\\nresilient and inventive people. A perfect survey for travellers, expats,\\nstudents and scholars alike.\\nwillem van schendelserved as Professor of Modern Asian'"
      ]
     },
     "execution_count": 13,
     "metadata": {},
     "output_type": "execute_result"
    }
   ],
   "source": [
    "text_chunks[5].page_content"
   ]
  },
  {
   "cell_type": "code",
   "execution_count": null,
   "metadata": {},
   "outputs": [],
   "source": [
    "# from langchain.embeddings import HuggingFaceEmbeddings\n",
    "\n",
    "# from sentence_transformers import SentenceTransformer\n",
    "# from sentence_transformers.util import cos_sim"
   ]
  },
  {
   "cell_type": "code",
   "execution_count": 65,
   "metadata": {},
   "outputs": [],
   "source": [
    "from langchain_huggingface import HuggingFaceEmbeddings"
   ]
  },
  {
   "cell_type": "code",
   "execution_count": null,
   "metadata": {},
   "outputs": [],
   "source": [
    "#download embedding model\n",
    "def embedding_model():\n",
    "    model = HuggingFaceEmbeddings(model_name=\"sentence-transformers/all-MiniLM-L6-v2\")        \n",
    "    return model"
   ]
  },
  {
   "cell_type": "code",
   "execution_count": null,
   "metadata": {},
   "outputs": [],
   "source": [
    "embeddings = embedding_model()"
   ]
  },
  {
   "cell_type": "code",
   "execution_count": null,
   "metadata": {},
   "outputs": [
    {
     "name": "stdout",
     "output_type": "stream",
     "text": [
      "tensor([[0.9429]])\n"
     ]
    }
   ],
   "source": [
    "# sentences = ['That is a happy person', 'That is a very happy person']\n",
    "# emb_output = embeddings.encode(sentences)\n",
    "# print(cos_sim(emb_output[0], emb_output[1]))"
   ]
  },
  {
   "cell_type": "code",
   "execution_count": null,
   "metadata": {},
   "outputs": [
    {
     "name": "stdout",
     "output_type": "stream",
     "text": [
      "384\n"
     ]
    }
   ],
   "source": [
    "# Query_result = embeddings.embed_query(\"Hello, world\")\n",
    "# print(len(Query_result))"
   ]
  },
  {
   "cell_type": "code",
   "execution_count": 86,
   "metadata": {},
   "outputs": [],
   "source": [
    "from dotenv import load_dotenv\n",
    "import os\n",
    "\n",
    "load_dotenv()\n",
    "\n",
    "#Pinecone API\n",
    "PINECONE_API_KEY = os.environ.get('PINECONE_API_KEY')\n",
    "os.environ[\"PINECONE_API_KEY\"] = PINECONE_API_KEY\n",
    "\n",
    "#OpenAI API\n",
    "OPENAI_API_KEY = os.environ.get('OPENAI_API_KEY')\n",
    "os.environ[\"OPENAI_API_KEY\"] = OPENAI_API_KEY"
   ]
  },
  {
   "cell_type": "code",
   "execution_count": 41,
   "metadata": {},
   "outputs": [
    {
     "data": {
      "text/plain": [
       "False"
      ]
     },
     "execution_count": 41,
     "metadata": {},
     "output_type": "execute_result"
    }
   ],
   "source": [
    "load_dotenv(\"/path/to/.env\")"
   ]
  },
  {
   "cell_type": "code",
   "execution_count": 53,
   "metadata": {},
   "outputs": [],
   "source": [
    "from pinecone import Pinecone, ServerlessSpec\n",
    "\n",
    "pc = Pinecone(api_key=PINECONE_API_KEY)"
   ]
  },
  {
   "cell_type": "code",
   "execution_count": null,
   "metadata": {},
   "outputs": [],
   "source": [
    "index_name = \"histobot\"\n",
    "\n",
    "pc.create_index(\n",
    "    name = index_name,\n",
    "    dimension=384,\n",
    "    metric=\"cosine\",\n",
    "    spec=ServerlessSpec(\n",
    "        cloud=\"aws\",\n",
    "        region=\"us-east-1\"\n",
    "    )\n",
    ")"
   ]
  },
  {
   "cell_type": "code",
   "execution_count": 79,
   "metadata": {},
   "outputs": [],
   "source": [
    "from langchain_pinecone import PineconeVectorStore\n",
    "# Embeded each chunk into Pinencone by upsert\n",
    "\n",
    "document_upsert = PineconeVectorStore.from_documents(\n",
    "    documents=text_chunks,\n",
    "    index_name=\"histobot\",\n",
    "    embedding=embeddings,\n",
    ")"
   ]
  },
  {
   "cell_type": "code",
   "execution_count": null,
   "metadata": {},
   "outputs": [],
   "source": [
    "docusearch = PineconeVectorStore.from_existing_index(\n",
    "    index_name=index_name,\n",
    "    embedding=embeddings\n",
    ")"
   ]
  },
  {
   "cell_type": "code",
   "execution_count": 82,
   "metadata": {},
   "outputs": [
    {
     "data": {
      "text/plain": [
       "<langchain_pinecone.vectorstores.PineconeVectorStore at 0x740641d780b0>"
      ]
     },
     "execution_count": 82,
     "metadata": {},
     "output_type": "execute_result"
    }
   ],
   "source": [
    "docusearch"
   ]
  },
  {
   "cell_type": "code",
   "execution_count": 83,
   "metadata": {},
   "outputs": [],
   "source": [
    "retriever = docusearch.as_retriever(search_type=\"similarity\", search_kwargs={\"k\":3})"
   ]
  },
  {
   "cell_type": "code",
   "execution_count": 84,
   "metadata": {},
   "outputs": [],
   "source": [
    "retrieved_docs = retriever.invoke(\"when did the first SAARC summit held in Dhaka?\")"
   ]
  },
  {
   "cell_type": "code",
   "execution_count": 85,
   "metadata": {},
   "outputs": [
    {
     "data": {
      "text/plain": [
       "[Document(id='9b2affda-029c-41b9-b59d-57928c3b5006', metadata={'author': 'HPPC', 'creationdate': '2025-02-21T22:55:53+06:00', 'creator': 'Writer', 'page': 305.0, 'page_label': '306', 'producer': 'LibreOffice 24.2', 'source': 'Dataset/ABriefHistoryofBangladedsh.pdf', 'total_pages': 393.0}, page_content='major conferences: Asian Relations Conference (New Delhi), Baguio  \\nConference  (Philippines)  and  Colombo  Powers  Conference  (Sri  \\nLanka), which were held between 1947 and 1954. Ex-president of  \\nBangladesh, Ziaur Rahman was the one who made a formal proposal  \\non May 2, 1980. The first SAARC summit was held in Dhaka on 8  \\nDecember 1985, during the Presidency of H. M. Ershad, when the  \\norganization  was  established.  Initially  the  number  of  SAARC'),\n",
       " Document(id='39dc7537-06cd-4a99-b2bc-0677f25564b8', metadata={'author': 'HPPC', 'creationdate': '2025-02-21T22:55:53+06:00', 'creator': 'Writer', 'page': 183.0, 'page_label': '184', 'producer': 'LibreOffice 24.2', 'source': 'Dataset/ABriefHistoryofBangladedsh.pdf', 'total_pages': 393.0}, page_content='first session.\\nA Brief History of Bangladesh\\uf040190'),\n",
       " Document(id='4a73d1ec-ba3d-4512-87d8-69bc0ac61367', metadata={'author': 'HPPC', 'creationdate': '2025-02-21T22:55:53+06:00', 'creator': 'Writer', 'page': 243.0, 'page_label': '244', 'producer': 'LibreOffice 24.2', 'source': 'Dataset/ABriefHistoryofBangladedsh.pdf', 'total_pages': 393.0}, page_content='established  “Bangladesher  Muktisangram  Sahayok  Somiti”  on  30 \\nMarch.  On  the  other  hand,  CPM  of  West  Bengal  established  \\n“Bangladesh Sanghati and Sahajjo Committee” on 31 March. The  \\nintellectuals of Calcutta gave statements in support of Bangladesh.  \\nIndian  media  broadcast  the  news  of  Bangladesh  with  much  \\nimportance. On March 26, 1971 Indian Prime Minister Indira Gahdhi  \\ngave statement on Bangladesh issue in Lokosova. She greeted the')]"
      ]
     },
     "execution_count": 85,
     "metadata": {},
     "output_type": "execute_result"
    }
   ],
   "source": [
    "retrieved_docs"
   ]
  },
  {
   "cell_type": "code",
   "execution_count": 136,
   "metadata": {},
   "outputs": [],
   "source": [
    "from langchain_openai import OpenAI\n",
    "llm = OpenAI(temperature=0.4, max_tokens=500)"
   ]
  },
  {
   "cell_type": "code",
   "execution_count": 137,
   "metadata": {},
   "outputs": [],
   "source": [
    "from langchain.chains import create_retrieval_chain\n",
    "from langchain.chains.combine_documents import create_stuff_documents_chain\n",
    "from langchain_core.prompts import ChatPromptTemplate"
   ]
  },
  {
   "cell_type": "code",
   "execution_count": 138,
   "metadata": {},
   "outputs": [],
   "source": [
    "System = (\"You are a student assistant for question-answering task.\"\n",
    "          \"Always answer according to the pieces of retrieved context.\"\n",
    "          \"if the given question you don't the answer, in politly reply you don't know the answer.\"\n",
    "          \"Use 4 sentences to maximum and keep the answer concise.\"\n",
    "          \"\\n\\n\"\n",
    "          \"{context}\")"
   ]
  },
  {
   "cell_type": "code",
   "execution_count": 139,
   "metadata": {},
   "outputs": [],
   "source": [
    "prompt_template = ChatPromptTemplate.from_messages(\n",
    "    [\n",
    "        (\"system\", System),\n",
    "        (\"human\", \"{input}\"),\n",
    "    ]\n",
    ")"
   ]
  },
  {
   "cell_type": "code",
   "execution_count": 140,
   "metadata": {},
   "outputs": [],
   "source": [
    "question_answering_chain = create_stuff_documents_chain(llm, prompt_template)\n",
    "rag_chain = create_retrieval_chain(retriever, question_answering_chain)"
   ]
  },
  {
   "cell_type": "code",
   "execution_count": 141,
   "metadata": {},
   "outputs": [
    {
     "name": "stdout",
     "output_type": "stream",
     "text": [
      "\n",
      "The first SAARC summit was held in Dhaka on 8 December 1985.\n"
     ]
    }
   ],
   "source": [
    "response = rag_chain.invoke({\"input\" : \"when did the first SAARC summit held in Dhaka?\"})\n",
    "print(response[\"answer\"])"
   ]
  },
  {
   "cell_type": "code",
   "execution_count": 98,
   "metadata": {},
   "outputs": [
    {
     "name": "stdout",
     "output_type": "stream",
     "text": [
      "\n",
      "\n",
      "I am a student assistant and my knowledge is limited to the pieces of retrieved context. Unfortunately, I do not have enough information to answer your question about data science. However, I am happy to assist you with any other questions you may have.\n"
     ]
    }
   ],
   "source": [
    "response = rag_chain.invoke({\"input\" : \"What is data science?\"})\n",
    "print(response[\"answer\"])"
   ]
  }
 ],
 "metadata": {
  "kernelspec": {
   "display_name": "venv",
   "language": "python",
   "name": "python3"
  },
  "language_info": {
   "codemirror_mode": {
    "name": "ipython",
    "version": 3
   },
   "file_extension": ".py",
   "mimetype": "text/x-python",
   "name": "python",
   "nbconvert_exporter": "python",
   "pygments_lexer": "ipython3",
   "version": "3.12.3"
  }
 },
 "nbformat": 4,
 "nbformat_minor": 2
}
